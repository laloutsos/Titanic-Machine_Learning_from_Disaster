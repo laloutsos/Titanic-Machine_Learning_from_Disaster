{
 "cells": [
  {
   "cell_type": "markdown",
   "id": "bfbb318c",
   "metadata": {
    "papermill": {
     "duration": 0.006769,
     "end_time": "2025-07-14T17:07:41.791783",
     "exception": false,
     "start_time": "2025-07-14T17:07:41.785014",
     "status": "completed"
    },
    "tags": []
   },
   "source": [
    "# Titanic Machine Learning Tutorial\n",
    "\n",
    "## Introduction\n",
    "\n",
    "In this notebook, I will follow a step-by-step process to solve the Titanic survival prediction problem using machine learning techniques.\n",
    "\n",
    "---\n",
    "\n",
    "## 1. Loading and Exploring the Data\n",
    "\n",
    "First, I load the training data (`train.csv`) and test data (`test.csv`) provided by Kaggle.  \n",
    "We can take a quick look at the first few rows to understand the structure and available features.\n",
    "\n",
    "We will also check the size of the datasets (number of passengers and columns) and get a basic summary of the data.\n",
    "\n",
    "Next, we will explore the data to identify any missing values and understand key relationships that might influence survival.\n"
   ]
  },
  {
   "cell_type": "code",
   "execution_count": 1,
   "id": "980d7d4c",
   "metadata": {
    "_cell_guid": "b1076dfc-b9ad-4769-8c92-a6c4dae69d19",
    "_uuid": "8f2839f25d086af736a60e9eeb907d3b93b6e0e5",
    "execution": {
     "iopub.execute_input": "2025-07-14T17:07:41.803345Z",
     "iopub.status.busy": "2025-07-14T17:07:41.802552Z",
     "iopub.status.idle": "2025-07-14T17:07:45.881402Z",
     "shell.execute_reply": "2025-07-14T17:07:45.880499Z"
    },
    "papermill": {
     "duration": 4.08615,
     "end_time": "2025-07-14T17:07:45.883207",
     "exception": false,
     "start_time": "2025-07-14T17:07:41.797057",
     "status": "completed"
    },
    "tags": []
   },
   "outputs": [],
   "source": [
    "#Library insertion\n",
    "import numpy as np          \n",
    "import matplotlib.pyplot as plt  \n",
    "import seaborn as sns       \n",
    "import pandas as pd\n"
   ]
  },
  {
   "cell_type": "code",
   "execution_count": 2,
   "id": "7c75edcf",
   "metadata": {
    "execution": {
     "iopub.execute_input": "2025-07-14T17:07:45.893750Z",
     "iopub.status.busy": "2025-07-14T17:07:45.893273Z",
     "iopub.status.idle": "2025-07-14T17:07:45.956261Z",
     "shell.execute_reply": "2025-07-14T17:07:45.955207Z"
    },
    "papermill": {
     "duration": 0.070068,
     "end_time": "2025-07-14T17:07:45.957889",
     "exception": false,
     "start_time": "2025-07-14T17:07:45.887821",
     "status": "completed"
    },
    "tags": []
   },
   "outputs": [
    {
     "data": {
      "text/html": [
       "<div>\n",
       "<style scoped>\n",
       "    .dataframe tbody tr th:only-of-type {\n",
       "        vertical-align: middle;\n",
       "    }\n",
       "\n",
       "    .dataframe tbody tr th {\n",
       "        vertical-align: top;\n",
       "    }\n",
       "\n",
       "    .dataframe thead th {\n",
       "        text-align: right;\n",
       "    }\n",
       "</style>\n",
       "<table border=\"1\" class=\"dataframe\">\n",
       "  <thead>\n",
       "    <tr style=\"text-align: right;\">\n",
       "      <th></th>\n",
       "      <th>PassengerId</th>\n",
       "      <th>Survived</th>\n",
       "      <th>Pclass</th>\n",
       "      <th>Name</th>\n",
       "      <th>Sex</th>\n",
       "      <th>Age</th>\n",
       "      <th>SibSp</th>\n",
       "      <th>Parch</th>\n",
       "      <th>Ticket</th>\n",
       "      <th>Fare</th>\n",
       "      <th>Cabin</th>\n",
       "      <th>Embarked</th>\n",
       "    </tr>\n",
       "  </thead>\n",
       "  <tbody>\n",
       "    <tr>\n",
       "      <th>0</th>\n",
       "      <td>1</td>\n",
       "      <td>0</td>\n",
       "      <td>3</td>\n",
       "      <td>Braund, Mr. Owen Harris</td>\n",
       "      <td>male</td>\n",
       "      <td>22.0</td>\n",
       "      <td>1</td>\n",
       "      <td>0</td>\n",
       "      <td>A/5 21171</td>\n",
       "      <td>7.2500</td>\n",
       "      <td>NaN</td>\n",
       "      <td>S</td>\n",
       "    </tr>\n",
       "    <tr>\n",
       "      <th>1</th>\n",
       "      <td>2</td>\n",
       "      <td>1</td>\n",
       "      <td>1</td>\n",
       "      <td>Cumings, Mrs. John Bradley (Florence Briggs Th...</td>\n",
       "      <td>female</td>\n",
       "      <td>38.0</td>\n",
       "      <td>1</td>\n",
       "      <td>0</td>\n",
       "      <td>PC 17599</td>\n",
       "      <td>71.2833</td>\n",
       "      <td>C85</td>\n",
       "      <td>C</td>\n",
       "    </tr>\n",
       "    <tr>\n",
       "      <th>2</th>\n",
       "      <td>3</td>\n",
       "      <td>1</td>\n",
       "      <td>3</td>\n",
       "      <td>Heikkinen, Miss. Laina</td>\n",
       "      <td>female</td>\n",
       "      <td>26.0</td>\n",
       "      <td>0</td>\n",
       "      <td>0</td>\n",
       "      <td>STON/O2. 3101282</td>\n",
       "      <td>7.9250</td>\n",
       "      <td>NaN</td>\n",
       "      <td>S</td>\n",
       "    </tr>\n",
       "    <tr>\n",
       "      <th>3</th>\n",
       "      <td>4</td>\n",
       "      <td>1</td>\n",
       "      <td>1</td>\n",
       "      <td>Futrelle, Mrs. Jacques Heath (Lily May Peel)</td>\n",
       "      <td>female</td>\n",
       "      <td>35.0</td>\n",
       "      <td>1</td>\n",
       "      <td>0</td>\n",
       "      <td>113803</td>\n",
       "      <td>53.1000</td>\n",
       "      <td>C123</td>\n",
       "      <td>S</td>\n",
       "    </tr>\n",
       "    <tr>\n",
       "      <th>4</th>\n",
       "      <td>5</td>\n",
       "      <td>0</td>\n",
       "      <td>3</td>\n",
       "      <td>Allen, Mr. William Henry</td>\n",
       "      <td>male</td>\n",
       "      <td>35.0</td>\n",
       "      <td>0</td>\n",
       "      <td>0</td>\n",
       "      <td>373450</td>\n",
       "      <td>8.0500</td>\n",
       "      <td>NaN</td>\n",
       "      <td>S</td>\n",
       "    </tr>\n",
       "  </tbody>\n",
       "</table>\n",
       "</div>"
      ],
      "text/plain": [
       "   PassengerId  Survived  Pclass  \\\n",
       "0            1         0       3   \n",
       "1            2         1       1   \n",
       "2            3         1       3   \n",
       "3            4         1       1   \n",
       "4            5         0       3   \n",
       "\n",
       "                                                Name     Sex   Age  SibSp  \\\n",
       "0                            Braund, Mr. Owen Harris    male  22.0      1   \n",
       "1  Cumings, Mrs. John Bradley (Florence Briggs Th...  female  38.0      1   \n",
       "2                             Heikkinen, Miss. Laina  female  26.0      0   \n",
       "3       Futrelle, Mrs. Jacques Heath (Lily May Peel)  female  35.0      1   \n",
       "4                           Allen, Mr. William Henry    male  35.0      0   \n",
       "\n",
       "   Parch            Ticket     Fare Cabin Embarked  \n",
       "0      0         A/5 21171   7.2500   NaN        S  \n",
       "1      0          PC 17599  71.2833   C85        C  \n",
       "2      0  STON/O2. 3101282   7.9250   NaN        S  \n",
       "3      0            113803  53.1000  C123        S  \n",
       "4      0            373450   8.0500   NaN        S  "
      ]
     },
     "execution_count": 2,
     "metadata": {},
     "output_type": "execute_result"
    }
   ],
   "source": [
    "# Data load\n",
    "train_df = pd.read_csv('/kaggle/input/titanic/train.csv')\n",
    "test_df = pd.read_csv('/kaggle/input/titanic/test.csv')\n",
    "\n",
    "# To check if everything went good\n",
    "train_df.head()\n"
   ]
  },
  {
   "cell_type": "markdown",
   "id": "ac11fa80",
   "metadata": {
    "papermill": {
     "duration": 0.00432,
     "end_time": "2025-07-14T17:07:45.966834",
     "exception": false,
     "start_time": "2025-07-14T17:07:45.962514",
     "status": "completed"
    },
    "tags": []
   },
   "source": [
    "## Understanding the Data with Basic Pandas Functions\n",
    "\n",
    "To better understand our dataset, Ι used the following functions:\n",
    "\n",
    "---\n",
    "\n",
    "### 1. `info()`\n",
    "\n",
    "This gives  a summary of:\n",
    "- The number of rows and columns.\n",
    "- The data types of each column (e.g., numeric, categorical).\n",
    "- How many **non-null** values each column contains.\n",
    "- The total memory usage of the dataset.\n",
    "\n",
    "From this, Ι discovered that some columns, like `Age` and `Cabin`, have quite a few missing values.\n",
    "\n",
    "---\n",
    "\n",
    "### 2. `isnull().sum()`\n",
    "\n",
    "This function counts how many missing values are in each column.\n",
    "\n",
    "I found that:\n",
    "- There are 177 missing values in `Age`\n",
    "- 687 missing values in `Cabin`\n",
    "- 2 missing values in `Embarked`\n",
    "\n",
    "---\n",
    "\n",
    "### 3. `describe()`\n",
    "\n",
    "This gives basic statistics for the numeric columns, such as:\n",
    "- Number of non-missing values (`count`)\n",
    "- Mean (`mean`)\n",
    "- Standard deviation (`std`)\n",
    "- Minimum (`min`) and maximum (`max`)\n",
    "- Quartile values (25%, 50% (median), 75%)\n",
    "\n",
    "These statistics help understand the distribution and spread of our data.\n",
    "\n",
    "---\n",
    "\n",
    "With this information, we have a clear picture of which data needs cleaning or filling before proceeding with analysis and modeling.\n"
   ]
  },
  {
   "cell_type": "code",
   "execution_count": 3,
   "id": "eaf26ead",
   "metadata": {
    "execution": {
     "iopub.execute_input": "2025-07-14T17:07:45.977744Z",
     "iopub.status.busy": "2025-07-14T17:07:45.977338Z",
     "iopub.status.idle": "2025-07-14T17:07:46.031058Z",
     "shell.execute_reply": "2025-07-14T17:07:46.030081Z"
    },
    "papermill": {
     "duration": 0.061231,
     "end_time": "2025-07-14T17:07:46.032955",
     "exception": false,
     "start_time": "2025-07-14T17:07:45.971724",
     "status": "completed"
    },
    "tags": []
   },
   "outputs": [
    {
     "name": "stdout",
     "output_type": "stream",
     "text": [
      "<class 'pandas.core.frame.DataFrame'>\n",
      "RangeIndex: 891 entries, 0 to 890\n",
      "Data columns (total 12 columns):\n",
      " #   Column       Non-Null Count  Dtype  \n",
      "---  ------       --------------  -----  \n",
      " 0   PassengerId  891 non-null    int64  \n",
      " 1   Survived     891 non-null    int64  \n",
      " 2   Pclass       891 non-null    int64  \n",
      " 3   Name         891 non-null    object \n",
      " 4   Sex          891 non-null    object \n",
      " 5   Age          714 non-null    float64\n",
      " 6   SibSp        891 non-null    int64  \n",
      " 7   Parch        891 non-null    int64  \n",
      " 8   Ticket       891 non-null    object \n",
      " 9   Fare         891 non-null    float64\n",
      " 10  Cabin        204 non-null    object \n",
      " 11  Embarked     889 non-null    object \n",
      "dtypes: float64(2), int64(5), object(5)\n",
      "memory usage: 83.7+ KB\n"
     ]
    },
    {
     "data": {
      "text/html": [
       "<div>\n",
       "<style scoped>\n",
       "    .dataframe tbody tr th:only-of-type {\n",
       "        vertical-align: middle;\n",
       "    }\n",
       "\n",
       "    .dataframe tbody tr th {\n",
       "        vertical-align: top;\n",
       "    }\n",
       "\n",
       "    .dataframe thead th {\n",
       "        text-align: right;\n",
       "    }\n",
       "</style>\n",
       "<table border=\"1\" class=\"dataframe\">\n",
       "  <thead>\n",
       "    <tr style=\"text-align: right;\">\n",
       "      <th></th>\n",
       "      <th>PassengerId</th>\n",
       "      <th>Survived</th>\n",
       "      <th>Pclass</th>\n",
       "      <th>Age</th>\n",
       "      <th>SibSp</th>\n",
       "      <th>Parch</th>\n",
       "      <th>Fare</th>\n",
       "    </tr>\n",
       "  </thead>\n",
       "  <tbody>\n",
       "    <tr>\n",
       "      <th>count</th>\n",
       "      <td>891.000000</td>\n",
       "      <td>891.000000</td>\n",
       "      <td>891.000000</td>\n",
       "      <td>714.000000</td>\n",
       "      <td>891.000000</td>\n",
       "      <td>891.000000</td>\n",
       "      <td>891.000000</td>\n",
       "    </tr>\n",
       "    <tr>\n",
       "      <th>mean</th>\n",
       "      <td>446.000000</td>\n",
       "      <td>0.383838</td>\n",
       "      <td>2.308642</td>\n",
       "      <td>29.699118</td>\n",
       "      <td>0.523008</td>\n",
       "      <td>0.381594</td>\n",
       "      <td>32.204208</td>\n",
       "    </tr>\n",
       "    <tr>\n",
       "      <th>std</th>\n",
       "      <td>257.353842</td>\n",
       "      <td>0.486592</td>\n",
       "      <td>0.836071</td>\n",
       "      <td>14.526497</td>\n",
       "      <td>1.102743</td>\n",
       "      <td>0.806057</td>\n",
       "      <td>49.693429</td>\n",
       "    </tr>\n",
       "    <tr>\n",
       "      <th>min</th>\n",
       "      <td>1.000000</td>\n",
       "      <td>0.000000</td>\n",
       "      <td>1.000000</td>\n",
       "      <td>0.420000</td>\n",
       "      <td>0.000000</td>\n",
       "      <td>0.000000</td>\n",
       "      <td>0.000000</td>\n",
       "    </tr>\n",
       "    <tr>\n",
       "      <th>25%</th>\n",
       "      <td>223.500000</td>\n",
       "      <td>0.000000</td>\n",
       "      <td>2.000000</td>\n",
       "      <td>20.125000</td>\n",
       "      <td>0.000000</td>\n",
       "      <td>0.000000</td>\n",
       "      <td>7.910400</td>\n",
       "    </tr>\n",
       "    <tr>\n",
       "      <th>50%</th>\n",
       "      <td>446.000000</td>\n",
       "      <td>0.000000</td>\n",
       "      <td>3.000000</td>\n",
       "      <td>28.000000</td>\n",
       "      <td>0.000000</td>\n",
       "      <td>0.000000</td>\n",
       "      <td>14.454200</td>\n",
       "    </tr>\n",
       "    <tr>\n",
       "      <th>75%</th>\n",
       "      <td>668.500000</td>\n",
       "      <td>1.000000</td>\n",
       "      <td>3.000000</td>\n",
       "      <td>38.000000</td>\n",
       "      <td>1.000000</td>\n",
       "      <td>0.000000</td>\n",
       "      <td>31.000000</td>\n",
       "    </tr>\n",
       "    <tr>\n",
       "      <th>max</th>\n",
       "      <td>891.000000</td>\n",
       "      <td>1.000000</td>\n",
       "      <td>3.000000</td>\n",
       "      <td>80.000000</td>\n",
       "      <td>8.000000</td>\n",
       "      <td>6.000000</td>\n",
       "      <td>512.329200</td>\n",
       "    </tr>\n",
       "  </tbody>\n",
       "</table>\n",
       "</div>"
      ],
      "text/plain": [
       "       PassengerId    Survived      Pclass         Age       SibSp  \\\n",
       "count   891.000000  891.000000  891.000000  714.000000  891.000000   \n",
       "mean    446.000000    0.383838    2.308642   29.699118    0.523008   \n",
       "std     257.353842    0.486592    0.836071   14.526497    1.102743   \n",
       "min       1.000000    0.000000    1.000000    0.420000    0.000000   \n",
       "25%     223.500000    0.000000    2.000000   20.125000    0.000000   \n",
       "50%     446.000000    0.000000    3.000000   28.000000    0.000000   \n",
       "75%     668.500000    1.000000    3.000000   38.000000    1.000000   \n",
       "max     891.000000    1.000000    3.000000   80.000000    8.000000   \n",
       "\n",
       "            Parch        Fare  \n",
       "count  891.000000  891.000000  \n",
       "mean     0.381594   32.204208  \n",
       "std      0.806057   49.693429  \n",
       "min      0.000000    0.000000  \n",
       "25%      0.000000    7.910400  \n",
       "50%      0.000000   14.454200  \n",
       "75%      0.000000   31.000000  \n",
       "max      6.000000  512.329200  "
      ]
     },
     "execution_count": 3,
     "metadata": {},
     "output_type": "execute_result"
    }
   ],
   "source": [
    "train_df.info()\n",
    "train_df.describe()\n",
    "\n",
    "#Checking the information we are provided from the data set."
   ]
  },
  {
   "cell_type": "code",
   "execution_count": 4,
   "id": "d6af8829",
   "metadata": {
    "execution": {
     "iopub.execute_input": "2025-07-14T17:07:46.045235Z",
     "iopub.status.busy": "2025-07-14T17:07:46.044911Z",
     "iopub.status.idle": "2025-07-14T17:07:46.052987Z",
     "shell.execute_reply": "2025-07-14T17:07:46.051918Z"
    },
    "papermill": {
     "duration": 0.016349,
     "end_time": "2025-07-14T17:07:46.054751",
     "exception": false,
     "start_time": "2025-07-14T17:07:46.038402",
     "status": "completed"
    },
    "tags": []
   },
   "outputs": [
    {
     "data": {
      "text/plain": [
       "PassengerId      0\n",
       "Survived         0\n",
       "Pclass           0\n",
       "Name             0\n",
       "Sex              0\n",
       "Age            177\n",
       "SibSp            0\n",
       "Parch            0\n",
       "Ticket           0\n",
       "Fare             0\n",
       "Cabin          687\n",
       "Embarked         2\n",
       "dtype: int64"
      ]
     },
     "execution_count": 4,
     "metadata": {},
     "output_type": "execute_result"
    }
   ],
   "source": [
    "train_df.isnull().sum() #checking the missing values\n"
   ]
  },
  {
   "cell_type": "markdown",
   "id": "682f8a7b",
   "metadata": {
    "papermill": {
     "duration": 0.004662,
     "end_time": "2025-07-14T17:07:46.064477",
     "exception": false,
     "start_time": "2025-07-14T17:07:46.059815",
     "status": "completed"
    },
    "tags": []
   },
   "source": [
    "## Creating Graphs so that I can study the distribution of the data.\n",
    "\n",
    "---\n",
    "\n",
    "### 1. ` Survival countplot `\n",
    "The dataset shows that approximately 500 passengers did not survive, while around 350 passengers survived. This indicates that the classes are somewhat imbalanced, with more non-survivors than survivors. This imbalance is important to consider during modeling, as it may affect the performance of classifiers, potentially biasing predictions toward the majority class. Techniques such as resampling or using evaluation metrics suitable for imbalanced data might be needed to address this.\n",
    "\n",
    "\n",
    "--- \n",
    "\n",
    "### 2. `Gender countplot`\n",
    "\n",
    "There are nearly 600 male passengers and around 300 female passengers in the dataset. This shows that males constitute roughly twice the number of females. Such an imbalance is important to consider, especially since gender might have a strong influence on survival rates, as historical data suggests women had higher chances of survival on the Titanic. Later analysis should examine survival rates separately by gender to capture these differences.\n",
    "\n",
    "---\n",
    "\n",
    "### 3. `Age Distribution`\n",
    "The age distribution shows a noticeable peak for very young children (ages 0–10), with a frequency around 15–30. After age 10, the distribution becomes more continuous and roughly bell-shaped, peaking among passengers aged around 20–30. As age increases, the number of passengers gradually decreases, forming a pyramid-like shape. Very few passengers are in the older age groups (70–80).\n",
    "\n",
    "This suggests that the Titanic passenger list included a considerable number of young children, which is visible as a small but clear peak at the start of the distribution.\n",
    "Most passengers were young adults in their twenties and thirties, which is typical for the period.\n",
    "The gradual decline in frequency with increasing age shows that fewer older passengers were on board.\n",
    "The presence of very few elderly passengers might reflect social and economic factors of the time or the demographics of those who could afford to travel.\n",
    "\n",
    "It’s also important to consider that age data is missing for some passengers, so this plot only reflects those whose ages were recorded.\n",
    "\n",
    "---\n"
   ]
  },
  {
   "cell_type": "code",
   "execution_count": 5,
   "id": "b89d4d73",
   "metadata": {
    "execution": {
     "iopub.execute_input": "2025-07-14T17:07:46.075887Z",
     "iopub.status.busy": "2025-07-14T17:07:46.075537Z",
     "iopub.status.idle": "2025-07-14T17:07:46.882530Z",
     "shell.execute_reply": "2025-07-14T17:07:46.881343Z"
    },
    "papermill": {
     "duration": 0.814931,
     "end_time": "2025-07-14T17:07:46.884308",
     "exception": false,
     "start_time": "2025-07-14T17:07:46.069377",
     "status": "completed"
    },
    "tags": []
   },
   "outputs": [
    {
     "data": {
      "image/png": "[encoded data removed]",
      "text/plain": [
       "<Figure size 640x480 with 1 Axes>"
      ]
     },
     "metadata": {},
     "output_type": "display_data"
    },
    {
     "data": {
      "image/png": "[encoded data removed]",
      "text/plain": [
       "<Figure size 640x480 with 1 Axes>"
      ]
     },
     "metadata": {},
     "output_type": "display_data"
    },
    {
     "data": {
      "image/png": "[encoded data removed]",
      "text/plain": [
       "<Figure size 640x480 with 1 Axes>"
      ]
     },
     "metadata": {},
     "output_type": "display_data"
    }
   ],
   "source": [
    "train_df['Survived'].value_counts().plot(kind='bar', title='Count of Survived')\n",
    "plt.show()\n",
    "\n",
    "train_df['Sex'].value_counts().plot(kind='bar', title='Count of Sex')\n",
    "plt.show()\n",
    "\n",
    "train_df['Age'].dropna().plot(kind='hist', bins=30, title='Age Distribution')\n",
    "plt.show()\n"
   ]
  },
  {
   "cell_type": "markdown",
   "id": "846db8af",
   "metadata": {
    "papermill": {
     "duration": 0.005714,
     "end_time": "2025-07-14T17:07:46.897881",
     "exception": false,
     "start_time": "2025-07-14T17:07:46.892167",
     "status": "completed"
    },
    "tags": []
   },
   "source": [
    "## Analyzing Survival Rates by Passenger Class\n",
    "\n",
    "---\n",
    "\n",
    "### In this step, I group the dataset by Pclass and calculate the mean of the Survived column.\n",
    "\n",
    "\n",
    "This analysis helps us understand how passenger class affected survival chances.\n",
    "\n",
    "The output shows that:\n",
    "\n",
    "First class passengers had the highest survival rate (about 63%)\n",
    "\n",
    "Second class passengers had a moderate survival rate (around 47%)\n",
    "\n",
    "Third class passengers had the lowest survival rate (about 24%)\n",
    "\n",
    "These results highlight a clear pattern: higher passenger classes had significantly better chances of survival.\n",
    "\n",
    "--- \n",
    "\n"
   ]
  },
  {
   "cell_type": "code",
   "execution_count": 6,
   "id": "5d01251e",
   "metadata": {
    "execution": {
     "iopub.execute_input": "2025-07-14T17:07:46.911402Z",
     "iopub.status.busy": "2025-07-14T17:07:46.911111Z",
     "iopub.status.idle": "2025-07-14T17:07:46.928712Z",
     "shell.execute_reply": "2025-07-14T17:07:46.927393Z"
    },
    "papermill": {
     "duration": 0.027284,
     "end_time": "2025-07-14T17:07:46.931510",
     "exception": false,
     "start_time": "2025-07-14T17:07:46.904226",
     "status": "completed"
    },
    "tags": []
   },
   "outputs": [
    {
     "data": {
      "text/html": [
       "<div>\n",
       "<style scoped>\n",
       "    .dataframe tbody tr th:only-of-type {\n",
       "        vertical-align: middle;\n",
       "    }\n",
       "\n",
       "    .dataframe tbody tr th {\n",
       "        vertical-align: top;\n",
       "    }\n",
       "\n",
       "    .dataframe thead th {\n",
       "        text-align: right;\n",
       "    }\n",
       "</style>\n",
       "<table border=\"1\" class=\"dataframe\">\n",
       "  <thead>\n",
       "    <tr style=\"text-align: right;\">\n",
       "      <th></th>\n",
       "      <th>Survived</th>\n",
       "    </tr>\n",
       "    <tr>\n",
       "      <th>Pclass</th>\n",
       "      <th></th>\n",
       "    </tr>\n",
       "  </thead>\n",
       "  <tbody>\n",
       "    <tr>\n",
       "      <th>1</th>\n",
       "      <td>0.629630</td>\n",
       "    </tr>\n",
       "    <tr>\n",
       "      <th>2</th>\n",
       "      <td>0.472826</td>\n",
       "    </tr>\n",
       "    <tr>\n",
       "      <th>3</th>\n",
       "      <td>0.242363</td>\n",
       "    </tr>\n",
       "  </tbody>\n",
       "</table>\n",
       "</div>"
      ],
      "text/plain": [
       "        Survived\n",
       "Pclass          \n",
       "1       0.629630\n",
       "2       0.472826\n",
       "3       0.242363"
      ]
     },
     "execution_count": 6,
     "metadata": {},
     "output_type": "execute_result"
    }
   ],
   "source": [
    "train_df[['Pclass', 'Survived']].groupby('Pclass').mean()\n"
   ]
  },
  {
   "cell_type": "markdown",
   "id": "fba8780c",
   "metadata": {
    "papermill": {
     "duration": 0.00688,
     "end_time": "2025-07-14T17:07:46.944881",
     "exception": false,
     "start_time": "2025-07-14T17:07:46.938001",
     "status": "completed"
    },
    "tags": []
   },
   "source": [
    "## Analyzing Survival Rates by Gender\n",
    "\n",
    "---\n",
    "\n",
    "### In this step, we group the dataset by the Sex column and calculate the mean of the Survived column.\n",
    "\n",
    "The output shows that:\n",
    "\n",
    "About 74% of female passengers survived\n",
    "\n",
    "Only around 19% of male passengers survived\n",
    "\n",
    "These numbers clearly show that women had a much higher survival rate compared to men.\n",
    "This likely reflects evacuation priorities at the time, following the “women and children first” principle during the Titanic disaster.\n",
    "\n",
    "--- \n",
    "\n"
   ]
  },
  {
   "cell_type": "code",
   "execution_count": 7,
   "id": "597a0cb7",
   "metadata": {
    "execution": {
     "iopub.execute_input": "2025-07-14T17:07:46.958804Z",
     "iopub.status.busy": "2025-07-14T17:07:46.958424Z",
     "iopub.status.idle": "2025-07-14T17:07:46.972566Z",
     "shell.execute_reply": "2025-07-14T17:07:46.971218Z"
    },
    "papermill": {
     "duration": 0.023431,
     "end_time": "2025-07-14T17:07:46.974513",
     "exception": false,
     "start_time": "2025-07-14T17:07:46.951082",
     "status": "completed"
    },
    "tags": []
   },
   "outputs": [
    {
     "data": {
      "text/html": [
       "<div>\n",
       "<style scoped>\n",
       "    .dataframe tbody tr th:only-of-type {\n",
       "        vertical-align: middle;\n",
       "    }\n",
       "\n",
       "    .dataframe tbody tr th {\n",
       "        vertical-align: top;\n",
       "    }\n",
       "\n",
       "    .dataframe thead th {\n",
       "        text-align: right;\n",
       "    }\n",
       "</style>\n",
       "<table border=\"1\" class=\"dataframe\">\n",
       "  <thead>\n",
       "    <tr style=\"text-align: right;\">\n",
       "      <th></th>\n",
       "      <th>Survived</th>\n",
       "    </tr>\n",
       "    <tr>\n",
       "      <th>Sex</th>\n",
       "      <th></th>\n",
       "    </tr>\n",
       "  </thead>\n",
       "  <tbody>\n",
       "    <tr>\n",
       "      <th>female</th>\n",
       "      <td>0.742038</td>\n",
       "    </tr>\n",
       "    <tr>\n",
       "      <th>male</th>\n",
       "      <td>0.188908</td>\n",
       "    </tr>\n",
       "  </tbody>\n",
       "</table>\n",
       "</div>"
      ],
      "text/plain": [
       "        Survived\n",
       "Sex             \n",
       "female  0.742038\n",
       "male    0.188908"
      ]
     },
     "execution_count": 7,
     "metadata": {},
     "output_type": "execute_result"
    }
   ],
   "source": [
    "train_df[['Sex', 'Survived']].groupby('Sex').mean()"
   ]
  },
  {
   "cell_type": "markdown",
   "id": "0845a12a",
   "metadata": {
    "papermill": {
     "duration": 0.0059,
     "end_time": "2025-07-14T17:07:46.988081",
     "exception": false,
     "start_time": "2025-07-14T17:07:46.982181",
     "status": "completed"
    },
    "tags": []
   },
   "source": [
    "##  Handling missing values\n",
    "\n",
    "Before building our model, it's important to handle missing data properly.  \n",
    "In this step, we'll do the following:\n",
    "\n",
    "- For the `Age` column, we'll fill missing values with the median age.  \n",
    "  Median is chosen instead of mean because it is less sensitive to extreme values.\n",
    "- For the `Embarked` column, we'll fill missing values with the most frequent port (mode).\n",
    "- The `Cabin` column has too many missing values to be useful.\n",
    "  To keep the code robust, we will drop the `Cabin` column but use `errors='ignore'` so the code won't break if the column is already missing from the dataset.\n",
    "\n",
    "This approach keeps the data clean and avoids future warnings or errors.\n",
    "\n"
   ]
  },
  {
   "cell_type": "code",
   "execution_count": 8,
   "id": "cc0a048b",
   "metadata": {
    "execution": {
     "iopub.execute_input": "2025-07-14T17:07:47.006274Z",
     "iopub.status.busy": "2025-07-14T17:07:47.005897Z",
     "iopub.status.idle": "2025-07-14T17:07:47.019859Z",
     "shell.execute_reply": "2025-07-14T17:07:47.018711Z"
    },
    "papermill": {
     "duration": 0.025923,
     "end_time": "2025-07-14T17:07:47.021851",
     "exception": false,
     "start_time": "2025-07-14T17:07:46.995928",
     "status": "completed"
    },
    "tags": []
   },
   "outputs": [
    {
     "name": "stdout",
     "output_type": "stream",
     "text": [
      "all good\n"
     ]
    }
   ],
   "source": [
    "train_df['Age'] = train_df['Age'].fillna(train_df['Age'].median())\n",
    "train_df['Embarked'] = train_df['Embarked'].fillna(train_df['Embarked'].mode()[0])\n",
    "train_df = train_df.drop('Cabin', axis=1, errors='ignore')\n",
    "print(\"all good\")\n"
   ]
  },
  {
   "cell_type": "markdown",
   "id": "995a5a9d",
   "metadata": {
    "papermill": {
     "duration": 0.006241,
     "end_time": "2025-07-14T17:07:47.037391",
     "exception": false,
     "start_time": "2025-07-14T17:07:47.031150",
     "status": "completed"
    },
    "tags": []
   },
   "source": [
    "## Correlation Insight\n",
    "\n",
    "In our heatmap, we observed a moderate negative correlation (-0.55) between *Fare* and *Pclass*.  \n",
    "This means that as the passenger class number increases (from 1st to 3rd class), the average fare tends to decrease — which makes sense given ticket pricing.\n",
    "\n",
    "While this correlation isn't extreme, it's worth noting because it could introduce multicollinearity in linear models.  \n",
    "For tree-based models, this correlation is usually less problematic.  \n",
    "To handle it, we could either keep both features and let the model decide, remove one of them, or create a new combined feature.\n"
   ]
  },
  {
   "cell_type": "code",
   "execution_count": 9,
   "id": "a9eb1faa",
   "metadata": {
    "execution": {
     "iopub.execute_input": "2025-07-14T17:07:47.058180Z",
     "iopub.status.busy": "2025-07-14T17:07:47.057724Z",
     "iopub.status.idle": "2025-07-14T17:07:47.487949Z",
     "shell.execute_reply": "2025-07-14T17:07:47.486781Z"
    },
    "papermill": {
     "duration": 0.440782,
     "end_time": "2025-07-14T17:07:47.489673",
     "exception": false,
     "start_time": "2025-07-14T17:07:47.048891",
     "status": "completed"
    },
    "tags": []
   },
   "outputs": [
    {
     "data": {
      "image/png": "[encoded data removed]",
      "text/plain": [
       "<Figure size 1000x800 with 2 Axes>"
      ]
     },
     "metadata": {},
     "output_type": "display_data"
    }
   ],
   "source": [
    "numeric_cols = train_df.select_dtypes(include=['int64', 'float64']).columns\n",
    "\n",
    "corr = train_df[numeric_cols].corr()\n",
    "\n",
    "plt.figure(figsize=(10,8))\n",
    "sns.heatmap(corr, annot=True, cmap='coolwarm', fmt=\".2f\")\n",
    "plt.title(\"Correlation Heatmap\")\n",
    "plt.show()"
   ]
  },
  {
   "cell_type": "markdown",
   "id": "b790aed4",
   "metadata": {
    "papermill": {
     "duration": 0.007369,
     "end_time": "2025-07-14T17:07:47.504824",
     "exception": false,
     "start_time": "2025-07-14T17:07:47.497455",
     "status": "completed"
    },
    "tags": []
   },
   "source": [
    "## Titanic Data Preprocessing & Feature Engineering \n",
    "\n",
    "This process transforms raw Titanic data into a structured format ready for modeling:\n",
    "\n",
    " **Missing value handling:(I did it again because the code did not run else.)**\n",
    "\n",
    "* Imputed missing `Age` values with the dataset's median to maintain consistency.\n",
    "* Filled missing `Embarked` entries with the mode (most common value) to preserve category information.\n",
    "* Dropped the `Cabin` column due to a high proportion of missing data.\n",
    "\n",
    " **Feature engineering:**\n",
    "\n",
    "* Added `FamilySize` as the sum of siblings/spouses and parents/children aboard plus one, highlighting family context.\n",
    "* Extracted `Title` from passenger names, regrouped rare titles under 'Rare', and standardized similar titles (e.g., 'Mlle' and 'Ms' to 'Miss').\n",
    "\n",
    " **Age binning:**\n",
    "\n",
    "* Divided `Age` into categorical bins (`AgeBin`) to capture age-related patterns that may be non-linear.\n",
    "\n",
    " **Encoding:**\n",
    "\n",
    "* Performed one-hot encoding on categorical variables (`Sex`, `Embarked`, `Title`, `AgeBin`), transforming them into numerical features suitable for machine learning models.\n",
    "\n"
   ]
  },
  {
   "cell_type": "code",
   "execution_count": 10,
   "id": "76e70f16",
   "metadata": {
    "execution": {
     "iopub.execute_input": "2025-07-14T17:07:47.521726Z",
     "iopub.status.busy": "2025-07-14T17:07:47.521379Z",
     "iopub.status.idle": "2025-07-14T17:07:48.112376Z",
     "shell.execute_reply": "2025-07-14T17:07:48.111129Z"
    },
    "papermill": {
     "duration": 0.601451,
     "end_time": "2025-07-14T17:07:48.113965",
     "exception": false,
     "start_time": "2025-07-14T17:07:47.512514",
     "status": "completed"
    },
    "tags": []
   },
   "outputs": [
    {
     "name": "stdout",
     "output_type": "stream",
     "text": [
      "all good\n"
     ]
    }
   ],
   "source": [
    "# Import libraries\n",
    "from sklearn.model_selection import train_test_split\n",
    "from sklearn.linear_model import LogisticRegression\n",
    "from sklearn.metrics import accuracy_score\n",
    "\n",
    "train_df = pd.read_csv('/kaggle/input/titanic/train.csv')\n",
    "\n",
    "\n",
    "# Fill missing values\n",
    "train_df['Age'] = train_df['Age'].fillna(train_df['Age'].median())\n",
    "train_df['Embarked'] = train_df['Embarked'].fillna(train_df['Embarked'].mode()[0])\n",
    "train_df = train_df.drop('Cabin', axis=1, errors='ignore')\n",
    "\n",
    "# Feature engineering\n",
    "train_df['FamilySize'] = train_df['SibSp'] + train_df['Parch'] + 1\n",
    "train_df['Age_Pclass'] = train_df['Age'] * train_df['Pclass']\n",
    "\n",
    "\n",
    "# Create 'Title' before dropping 'Name'\n",
    "train_df['Title'] = train_df['Name'].str.extract(' ([A-Za-z]+)\\.', expand=False)\n",
    "train_df['Title'] = train_df['Title'].replace(\n",
    "    ['Lady', 'Countess','Capt', 'Col','Don', 'Dr', 'Major', 'Rev', \n",
    "     'Sir', 'Jonkheer', 'Dona'], 'Rare')\n",
    "train_df['Title'] = train_df['Title'].replace({'Mlle': 'Miss', 'Ms': 'Miss', 'Mme': 'Mrs'})\n",
    "\n",
    "# Age bins\n",
    "train_df['AgeBin'] = pd.cut(train_df['Age'], bins=[0, 12, 18, 35, 60, 80], labels=False)\n",
    "\n",
    "# Drop columns we don't need anymore\n",
    "train_df = train_df.drop(['Name', 'Ticket'], axis=1)\n",
    "\n",
    "# One-hot encoding\n",
    "categorical_cols = ['Sex', 'Embarked', 'Title', 'AgeBin']\n",
    "train_df_encoded = pd.get_dummies(train_df, columns=categorical_cols, drop_first=True)\n",
    "\n",
    "print(\"all good\")"
   ]
  },
  {
   "cell_type": "markdown",
   "id": "35b48a0a",
   "metadata": {
    "papermill": {
     "duration": 0.008278,
     "end_time": "2025-07-14T17:07:48.129714",
     "exception": false,
     "start_time": "2025-07-14T17:07:48.121436",
     "status": "completed"
    },
    "tags": []
   },
   "source": [
    "##  Random Forest Modeling & Hyperparameter Tuning \n",
    "\n",
    " **Data split:**\n",
    "\n",
    "* Separated features (`X`) from the target (`y`), then split the data into training and validation sets (80% training, 20% validation) for unbiased evaluation.\n",
    "\n",
    " **Model selection:**\n",
    "\n",
    "* Used `RandomForestClassifier` as the base estimator for its ability to handle nonlinear relationships and feature importance.\n",
    "\n",
    " **Hyperparameter tuning:**\n",
    "\n",
    "* Defined a `param_grid` with combinations of hyperparameters:\n",
    "\n",
    "  * `n_estimators`: number of trees (e.g., 100, 200)\n",
    "  * `max_depth`: maximum depth of each tree\n",
    "  * `min_samples_split` and `min_samples_leaf`: control overfitting by specifying minimum samples required for splits and leaves\n",
    "* Applied `GridSearchCV` with 5-fold cross-validation to search for the best hyperparameter combination based on accuracy.\n",
    "\n",
    " **Evaluation:**\n",
    "\n",
    "* Predicted on the validation set and calculated accuracy to measure model performance.\n",
    "* Displayed the best hyperparameters and final accuracy.\n",
    "\n",
    " **Model saving:**\n",
    "\n",
    "* Saved the optimized model as `best_model.pkl` using `pickle` for future use without retraining.\n",
    "\n"
   ]
  },
  {
   "cell_type": "code",
   "execution_count": 11,
   "id": "2ed403b1",
   "metadata": {
    "execution": {
     "iopub.execute_input": "2025-07-14T17:07:48.147113Z",
     "iopub.status.busy": "2025-07-14T17:07:48.146800Z",
     "iopub.status.idle": "2025-07-14T17:08:06.348311Z",
     "shell.execute_reply": "2025-07-14T17:08:06.347059Z"
    },
    "papermill": {
     "duration": 18.211636,
     "end_time": "2025-07-14T17:08:06.349917",
     "exception": false,
     "start_time": "2025-07-14T17:07:48.138281",
     "status": "completed"
    },
    "tags": []
   },
   "outputs": [
    {
     "name": "stdout",
     "output_type": "stream",
     "text": [
      "Best Parameters: {'max_depth': 10, 'min_samples_leaf': 1, 'min_samples_split': 5, 'n_estimators': 100}\n",
      "Validation Accuracy: 0.8380\n"
     ]
    }
   ],
   "source": [
    "from sklearn.ensemble import RandomForestClassifier\n",
    "from sklearn.model_selection import GridSearchCV, train_test_split\n",
    "from sklearn.metrics import accuracy_score\n",
    "\n",
    "\n",
    "X = train_df_encoded.drop('Survived', axis=1)\n",
    "y = train_df_encoded['Survived']\n",
    "\n",
    "X_train, X_val, y_train, y_val = train_test_split(\n",
    "    X, y, test_size=0.2, random_state=42\n",
    ")\n",
    "\n",
    "model = RandomForestClassifier(random_state=42)\n",
    "\n",
    "param_grid = {\n",
    "    'n_estimators': [100, 200],\n",
    "    'max_depth': [5, 10, None],\n",
    "    'min_samples_split': [2, 5],\n",
    "    'min_samples_leaf': [1, 2]\n",
    "}\n",
    "\n",
    "grid_search = GridSearchCV(\n",
    "    model, param_grid, cv=5, scoring='accuracy', n_jobs=-1\n",
    ")\n",
    "grid_search.fit(X_train, y_train)\n",
    "\n",
    "best_model = grid_search.best_estimator_\n",
    "\n",
    "y_pred = best_model.predict(X_val)\n",
    "accuracy = accuracy_score(y_val, y_pred)\n",
    "\n",
    "print(f\"Best Parameters: {grid_search.best_params_}\")\n",
    "print(f\"Validation Accuracy: {accuracy:.4f}\")\n",
    "\n",
    "import pickle\n",
    "with open('best_model.pkl', 'wb') as f:\n",
    "    pickle.dump(best_model, f)\n"
   ]
  },
  {
   "cell_type": "markdown",
   "id": "e88da343",
   "metadata": {
    "papermill": {
     "duration": 0.007794,
     "end_time": "2025-07-14T17:08:06.365658",
     "exception": false,
     "start_time": "2025-07-14T17:08:06.357864",
     "status": "completed"
    },
    "tags": []
   },
   "source": [
    "##  Test Set Preprocessing for Titanic Prediction\n",
    "\n",
    "We perform identical preprocessing and feature engineering procedures on the test dataset as applied to the training dataset to ensure consistency in model input representation and to prevent discrepancies or errors during model inference.\n"
   ]
  },
  {
   "cell_type": "code",
   "execution_count": 12,
   "id": "e66d59b0",
   "metadata": {
    "execution": {
     "iopub.execute_input": "2025-07-14T17:08:06.382662Z",
     "iopub.status.busy": "2025-07-14T17:08:06.382311Z",
     "iopub.status.idle": "2025-07-14T17:08:06.405518Z",
     "shell.execute_reply": "2025-07-14T17:08:06.404507Z"
    },
    "papermill": {
     "duration": 0.034019,
     "end_time": "2025-07-14T17:08:06.407364",
     "exception": false,
     "start_time": "2025-07-14T17:08:06.373345",
     "status": "completed"
    },
    "tags": []
   },
   "outputs": [],
   "source": [
    "import pandas as pd\n",
    "import pickle\n",
    "\n",
    "test_df = pd.read_csv('/kaggle/input/titanic/test.csv')\n",
    "\n",
    "# Fill missing values\n",
    "test_df['Age'] = test_df['Age'].fillna(test_df['Age'].median())\n",
    "test_df['Fare'] = test_df['Fare'].fillna(test_df['Fare'].median())\n",
    "\n",
    "if 'Embarked' in test_df.columns:\n",
    "    test_df['Embarked'] = test_df['Embarked'].fillna(test_df['Embarked'].mode()[0])\n",
    "else:\n",
    "    test_df['Embarked'] = 'S'\n",
    "\n",
    "test_df['FamilySize'] = test_df['SibSp'] + test_df['Parch'] + 1\n",
    "test_df['Age_Pclass'] = test_df['Age'] * test_df['Pclass']\n",
    "\n",
    "\n",
    "test_df['Title'] = test_df['Name'].str.extract(' ([A-Za-z]+)\\.', expand=False)\n",
    "test_df['Title'] = test_df['Title'].replace(\n",
    "    ['Lady', 'Countess','Capt', 'Col','Don', 'Dr', 'Major', 'Rev', \n",
    "     'Sir', 'Jonkheer', 'Dona'], 'Rare')\n",
    "test_df['Title'] = test_df['Title'].replace({'Mlle': 'Miss', 'Ms': 'Miss', 'Mme': 'Mrs'})\n",
    "\n",
    "test_df['AgeBin'] = pd.cut(test_df['Age'], bins=[0, 12, 18, 35, 60, 80], labels=False)\n",
    "\n",
    "test_df = test_df.drop(['Name', 'Ticket', 'Cabin'], axis=1)\n",
    "\n",
    "categorical_cols = ['Sex', 'Embarked', 'Title', 'AgeBin']\n",
    "test_df_encoded = pd.get_dummies(test_df, columns=categorical_cols, drop_first=True)\n",
    "\n",
    "\n"
   ]
  },
  {
   "cell_type": "markdown",
   "id": "761f837a",
   "metadata": {
    "papermill": {
     "duration": 0.007073,
     "end_time": "2025-07-14T17:08:06.421845",
     "exception": false,
     "start_time": "2025-07-14T17:08:06.414772",
     "status": "completed"
    },
    "tags": []
   },
   "source": [
    "## Generating Predictions and Creating Submission File\n",
    "We are now prepared for the final stage, where predictions will be made. More specifically:\n",
    "\n",
    "\n",
    "1. **Loading the trained model**  \n",
    "   The previously saved model is loaded from a pickle file (`best_model.pkl`).\n",
    "\n",
    "2. **Matching test features with model features**  \n",
    "   - The model’s expected input features are retrieved using `feature_names_in_`.  \n",
    "   - Some features might be missing from the test dataset after encoding, so these missing columns are added with default values of 0 to ensure the test data has exactly the same columns as the model expects.\n",
    "\n",
    "3. **Preparing the test feature matrix**  \n",
    "   The test dataframe is reordered and filtered so that it contains only the features in the exact order required by the model.\n",
    "\n",
    "4. **Making predictions**  \n",
    "   The model predicts survival for each passenger in the test set.\n",
    "\n",
    "5. **Creating the submission dataframe**  \n",
    "   A new dataframe is created with two columns:  \n",
    "   - `PassengerId`: IDs from the original test set  \n",
    "   - `Survived`: the predicted labels (0 or 1) for survival\n",
    "\n",
    "6. **Saving the submission to a CSV file**  \n",
    "   The submission dataframe is saved to `random_forest_submission.csv` without the index, ready to be uploaded to Kaggle.\n",
    "\n",
    "7. **Confirmation message**  \n",
    "   Prints a message indicating that the submission file was saved successfully.\n"
   ]
  },
  {
   "cell_type": "code",
   "execution_count": 13,
   "id": "e1cc424f",
   "metadata": {
    "execution": {
     "iopub.execute_input": "2025-07-14T17:08:06.438379Z",
     "iopub.status.busy": "2025-07-14T17:08:06.438058Z",
     "iopub.status.idle": "2025-07-14T17:08:06.473334Z",
     "shell.execute_reply": "2025-07-14T17:08:06.471939Z"
    },
    "papermill": {
     "duration": 0.045977,
     "end_time": "2025-07-14T17:08:06.475107",
     "exception": false,
     "start_time": "2025-07-14T17:08:06.429130",
     "status": "completed"
    },
    "tags": []
   },
   "outputs": [
    {
     "name": "stdout",
     "output_type": "stream",
     "text": [
      "Submission file saved successfully!\n"
     ]
    }
   ],
   "source": [
    "with open('best_model.pkl', 'rb') as f:\n",
    "    best_model = pickle.load(f)\n",
    "\n",
    "features = best_model.feature_names_in_\n",
    "\n",
    "missing_cols = set(features) - set(test_df_encoded.columns)\n",
    "for c in missing_cols:\n",
    "    test_df_encoded[c] = 0\n",
    "\n",
    "X_test = test_df_encoded[features]\n",
    "# Predict\n",
    "preds = best_model.predict(X_test)\n",
    "\n",
    "# Submission\n",
    "submission = pd.DataFrame({\n",
    "    'PassengerId': test_df['PassengerId'],\n",
    "    'Survived': preds\n",
    "})\n",
    "submission.to_csv('random_forest_submission.csv', index=False)\n",
    "\n",
    "print(\"Submission file saved successfully!\")\n"
   ]
  }
 ],
 "metadata": {
  "kaggle": {
   "accelerator": "none",
   "dataSources": [
    {
     "databundleVersionId": 26502,
     "sourceId": 3136,
     "sourceType": "competition"
    }
   ],
   "dockerImageVersionId": 31089,
   "isGpuEnabled": false,
   "isInternetEnabled": false,
   "language": "python",
   "sourceType": "notebook"
  },
  "kernelspec": {
   "display_name": "Python 3",
   "language": "python",
   "name": "python3"
  },
  "language_info": {
   "codemirror_mode": {
    "name": "ipython",
    "version": 3
   },
   "file_extension": ".py",
   "mimetype": "text/x-python",
   "name": "python",
   "nbconvert_exporter": "python",
   "pygments_lexer": "ipython3",
   "version": "3.11.13"
  },
  "papermill": {
   "default_parameters": {},
   "duration": 32.508341,
   "end_time": "2025-07-14T17:08:09.103624",
   "environment_variables": {},
   "exception": null,
   "input_path": "__notebook__.ipynb",
   "output_path": "__notebook__.ipynb",
   "parameters": {},
   "start_time": "2025-07-14T17:07:36.595283",
   "version": "2.6.0"
  }
 },
 "nbformat": 4,
 "nbformat_minor": 5
}
